{
 "cells": [
  {
   "cell_type": "code",
   "execution_count": 1,
   "metadata": {
    "id": "i66mpWeozdpg"
   },
   "outputs": [],
   "source": [
    "import gradio as gr\n",
    "from transformers import pipeline\n",
    "import numpy as np\n",
    "import warnings\n",
    "warnings.filterwarnings(\"ignore\")"
   ]
  },
  {
   "cell_type": "code",
   "execution_count": 2,
   "metadata": {
    "colab": {
     "base_uri": "https://localhost:8080/",
     "height": 387,
     "referenced_widgets": [
      "fa2179b2c2b94d30b8c22ab40b3a8d37",
      "d7da7b73690b4ea1976d5e03b782589b",
      "cf8c21c619a043ba8c620a4cbe1dd803",
      "26de05f1293d4ce5b4ed7783cc211ae7",
      "1bff6cea90ec4784816b7cb980dc6768",
      "983a73b779d14d69b699a2b341f1aec9",
      "63f5f14e80dd46bb9fc28ee7487f17d7",
      "b7870dd9091a441ba5932feb2d78c04b",
      "1c39ac0bb5404bee82c5ac32126e5b98",
      "c7331e39357b4536bca2b8b729bc155a",
      "9337ca00705f4db2968e0a072a03b748",
      "17b251848f5f4b63ac6fa9cb8454eedd",
      "35f023d66dd349228c3136aba73309cf",
      "49a524a0a3b44a07897c5e0a8af6ea1b",
      "9a1bb7a94e884fc7be3dab80a5b43fc6",
      "78d1a6d7cf5d4b4a9eb5800f007c9498",
      "004637d75e834edc90bf358a79c4192e",
      "1aedf4dde48c481698bf74acf83e1886",
      "a67ead029c014eb887d2f15b5fb53c1e",
      "c4472b721163472987486040d0c028d2",
      "90ab81b2f71b49b2b1949829825b51e1",
      "e0f87909e87a4c3991587b0c36002b5e",
      "d23a6aecb90d479bb899839618e30ac7",
      "1dfa9114757b4465ada5f8bbb8f398ec",
      "f6f66e7fdd1b4f44ae703f8109ca723d",
      "df07c5c542fc47d7abe5ddb1672e68f8",
      "36c6df919f0e40f6b45ff15a1f39464e",
      "5d2498eb3c88440385680e69bcb05dc9",
      "b6e1539491a649b5871859ea05353863",
      "e57eeee433d640418ba1abda9b10eb6d",
      "781acdf1acd74451899d2d57d4128e87",
      "00f7cf7c7ba14022af9b1e1ba0de2d25",
      "d70d5381162646cd84a113e39a55cf06",
      "441054ea1970427f9f05c3120825b4c3",
      "743590d328c84de4a6d0d9dd210dd424",
      "bd345d8b5a2346c589c65f0515b1fb94",
      "886e739fc8b1499b951a61f5908748b7",
      "f183020821a64ae2b74c701e28df9736",
      "bddf45793d9a4030ad66594649b9644c",
      "ac2b6f9c704a4e8898e5ad809ce08b1f",
      "a5d3bfd266b34edaabcd94e5cfb6ad68",
      "f421044eb55c4ece930381dafbbee6a0",
      "b6601ee4a3a3485c9dbbed4418b8bc57",
      "a54c49eac13d47b2be7e36a2772378ce",
      "13377063134342f58e6fc35a3f4f4c63",
      "a732325bb8da4990ad01fbee3bd4303b",
      "cfc9a5c5f8734223b14007dc4e2ca4a6",
      "b3559f6acc7e41a9a247631b169f76f5",
      "77a1c7f13f5347d797b16de1c29ca666",
      "3685c5edfe904f07aabf91b0b01799b3",
      "2453d3e323474b509c9ba8c2feaaeb2d",
      "18d703ed3f6d4b209e5efda43b364c04",
      "1567075284c44d5892bfbfc159f87000",
      "b7112b255afb464eb27b9765ccef020f",
      "6aa9e18829b54cbfb2e8623d9f29120f",
      "156fe5dd37634fd3b2fad52dfd8692f6",
      "a36ab7eaee4a4c27809da7e8824b74e7",
      "e388d1f9fc214e158767fc9f241eee4b",
      "f49e68ab0af0484a91728537b95ed8b8",
      "f2bf43bf94d34c4382c633d065e806c2",
      "09d5a61ee3f04a61801994474403a34f",
      "16f3dc0f33ad45bc8f8509d32f1b5901",
      "861d52cdc1e040c386a19b3899a2b16b",
      "d8e016b4060f423c9606e8157aee667e",
      "63dba8e42183406d869f03db37d28079",
      "4e713c9a161d4b14a81a7ba9bc9433f5",
      "81d3623e0ad3453780ef64e545df3610",
      "c6b1a4e0ea59422798de7ecfb046693d",
      "a8eee65a33b940e7bf16a01d61234321",
      "8cdd8c7406cd4a2b8d7ac42d1b5d1a90",
      "8cdd3c18c76c47b3a17ab83e3fe7bc18",
      "0d0c210e3a6e43bc802c97e74f174db3",
      "8a7a432388654bd69f6d1f92f32a35e3",
      "27fc88225a07403ab51fa13aaff80322",
      "73f2f09ddd424d289f630410054d55b6",
      "73e0e18703124df895e64f881d485e84",
      "2eecb3b8a2fb4e0ab5663cd3e83e3b9f",
      "c758542167b049159b935ea64c9d72fa",
      "a4b055a8e0f84aa88435fe6fd2c4d271",
      "ee0aa597c31c4da68f0fd8db55cbf0e4",
      "33442328fc9d4ec2b5fc2c69ea8c4066",
      "960e7a162b74426fb1c5adff13d4a5b1",
      "0771bfa47aae46ea82cb2ecbc18663f5",
      "ea34d71d5a144682b9568644677bc612",
      "c5d789f1214d4b5683235d6c7a9f9cb7",
      "d8b2a8429c354b0b85551e628cc264e1",
      "aa4c95305e404cfcb5bf0c0851056fff",
      "7b5fd9878cc14627833b1f9d908bdde1",
      "a81042338062427ea66e63025f7db5b6",
      "a9e7ebc7184b49e898d2de66704425ff",
      "07d674ead3314edba7a36c111cab7440",
      "981bbbae66f34dee80ff400fb619e96c",
      "7dbd4286308d414db8431d52b95e3c0b",
      "3171abf9b58d419986b25672a2bb7746",
      "da0b7679ac874515bf048277071f200f",
      "cd2d9deb1a464580b371284ec211d0b3",
      "d93acfd1781b495d9a4fe262a7f932e1",
      "15c02aa7ca1e4695b0591ed6fc5302b6",
      "7fcce9eeda1b430cb80c1a7bbb929bb9",
      "62f47b438ae34f479a760e6d6ffed547",
      "a1fa91bdbe1a470e9781de6c4f1b09dd",
      "4a07135b05684ce496f5cd6aa46a8ee9",
      "ef24d2d5e4b642938fd2fd114d691f1a",
      "c583f2e09c3b4fe7ae23edeb61dbb1dd",
      "16ca9012f5c24a4288612091d42b5700",
      "cad419d41c42422fbc9b8638ce862799",
      "5371c41947124d5f805c9e889108da43",
      "f113c76491a548bd9709ac251e15dc96",
      "7cda47596c3e4c569d4aee3d6f258c29",
      "c1ab77f64ce34995a217a0eab8cbf43a",
      "90232088e5df47cb9e4670abfaa461e7",
      "f5ee14ce397b4ffcb100b0c20709e3b9",
      "a250aa81d9244335b7082e6cde1a00df",
      "c749066f27764c77aac3f55d741f5a1f",
      "ec6550b5cde54c5a97bcbf080811f914",
      "c6639ba24a974e3bb109f00215be7252",
      "a80c6768edb1497f849031874481a809",
      "3bd7c429fdc94993a6ee0e2e3e5fa081",
      "dc5030f112694a21be4056982dd91c2e",
      "549cdfa89e414af8868aa38126deaa3d",
      "5fd56c9913a7406e8da937d77903a69a"
     ]
    },
    "id": "ukCU9KAy1jDF",
    "outputId": "89add6cd-f919-46fb-b31e-d7248e2911f5"
   },
   "outputs": [
    {
     "data": {
      "application/vnd.jupyter.widget-view+json": {
       "model_id": "fa2179b2c2b94d30b8c22ab40b3a8d37",
       "version_major": 2,
       "version_minor": 0
      },
      "text/plain": [
       "config.json: 0.00B [00:00, ?B/s]"
      ]
     },
     "metadata": {},
     "output_type": "display_data"
    },
    {
     "data": {
      "application/vnd.jupyter.widget-view+json": {
       "model_id": "17b251848f5f4b63ac6fa9cb8454eedd",
       "version_major": 2,
       "version_minor": 0
      },
      "text/plain": [
       "model.safetensors:   0%|          | 0.00/3.09G [00:00<?, ?B/s]"
      ]
     },
     "metadata": {},
     "output_type": "display_data"
    },
    {
     "data": {
      "application/vnd.jupyter.widget-view+json": {
       "model_id": "d23a6aecb90d479bb899839618e30ac7",
       "version_major": 2,
       "version_minor": 0
      },
      "text/plain": [
       "generation_config.json: 0.00B [00:00, ?B/s]"
      ]
     },
     "metadata": {},
     "output_type": "display_data"
    },
    {
     "data": {
      "application/vnd.jupyter.widget-view+json": {
       "model_id": "441054ea1970427f9f05c3120825b4c3",
       "version_major": 2,
       "version_minor": 0
      },
      "text/plain": [
       "tokenizer_config.json: 0.00B [00:00, ?B/s]"
      ]
     },
     "metadata": {},
     "output_type": "display_data"
    },
    {
     "data": {
      "application/vnd.jupyter.widget-view+json": {
       "model_id": "13377063134342f58e6fc35a3f4f4c63",
       "version_major": 2,
       "version_minor": 0
      },
      "text/plain": [
       "vocab.json: 0.00B [00:00, ?B/s]"
      ]
     },
     "metadata": {},
     "output_type": "display_data"
    },
    {
     "data": {
      "application/vnd.jupyter.widget-view+json": {
       "model_id": "156fe5dd37634fd3b2fad52dfd8692f6",
       "version_major": 2,
       "version_minor": 0
      },
      "text/plain": [
       "tokenizer.json: 0.00B [00:00, ?B/s]"
      ]
     },
     "metadata": {},
     "output_type": "display_data"
    },
    {
     "data": {
      "application/vnd.jupyter.widget-view+json": {
       "model_id": "81d3623e0ad3453780ef64e545df3610",
       "version_major": 2,
       "version_minor": 0
      },
      "text/plain": [
       "merges.txt: 0.00B [00:00, ?B/s]"
      ]
     },
     "metadata": {},
     "output_type": "display_data"
    },
    {
     "data": {
      "application/vnd.jupyter.widget-view+json": {
       "model_id": "c758542167b049159b935ea64c9d72fa",
       "version_major": 2,
       "version_minor": 0
      },
      "text/plain": [
       "normalizer.json: 0.00B [00:00, ?B/s]"
      ]
     },
     "metadata": {},
     "output_type": "display_data"
    },
    {
     "data": {
      "application/vnd.jupyter.widget-view+json": {
       "model_id": "a81042338062427ea66e63025f7db5b6",
       "version_major": 2,
       "version_minor": 0
      },
      "text/plain": [
       "added_tokens.json: 0.00B [00:00, ?B/s]"
      ]
     },
     "metadata": {},
     "output_type": "display_data"
    },
    {
     "data": {
      "application/vnd.jupyter.widget-view+json": {
       "model_id": "62f47b438ae34f479a760e6d6ffed547",
       "version_major": 2,
       "version_minor": 0
      },
      "text/plain": [
       "special_tokens_map.json: 0.00B [00:00, ?B/s]"
      ]
     },
     "metadata": {},
     "output_type": "display_data"
    },
    {
     "data": {
      "application/vnd.jupyter.widget-view+json": {
       "model_id": "90232088e5df47cb9e4670abfaa461e7",
       "version_major": 2,
       "version_minor": 0
      },
      "text/plain": [
       "preprocessor_config.json:   0%|          | 0.00/340 [00:00<?, ?B/s]"
      ]
     },
     "metadata": {},
     "output_type": "display_data"
    },
    {
     "name": "stderr",
     "output_type": "stream",
     "text": [
      "Device set to use cuda:0\n"
     ]
    }
   ],
   "source": [
    "asr = pipeline(\n",
    "    \"automatic-speech-recognition\",\n",
    "    model=\"openai/whisper-large-v3\",\n",
    "    device=0\n",
    ")"
   ]
  },
  {
   "cell_type": "code",
   "execution_count": 11,
   "metadata": {
    "id": "VuHS0OT71yjT"
   },
   "outputs": [],
   "source": [
    "def transcribe(audio_tuple):\n",
    "\n",
    "    result = asr(audio_tuple)\n",
    "    return result[\"text\"]"
   ]
  },
  {
   "cell_type": "code",
   "execution_count": 13,
   "metadata": {
    "id": "jc83751C2Eo9"
   },
   "outputs": [],
   "source": [
    "interface = gr.Interface(\n",
    "    fn=transcribe,\n",
    "    inputs=gr.Audio(sources=[\"microphone\",\"upload\"], type=\"filepath\"),\n",
    "    outputs=gr.Markdown(label=\"Transcription\"),\n",
    "    title=\"Speech-to-Text\"\n",
    ")"
   ]
  },
  {
   "cell_type": "code",
   "execution_count": 14,
   "metadata": {
    "colab": {
     "base_uri": "https://localhost:8080/",
     "height": 612
    },
    "id": "9Tx9Y-wZ3QRx",
    "outputId": "ea44bef2-677b-4768-9c8a-59a688b4b44c"
   },
   "outputs": [
    {
     "name": "stdout",
     "output_type": "stream",
     "text": [
      "Colab notebook detected. To show errors in colab notebook, set debug=True in launch()\n",
      "* Running on public URL: https://61ca763c914ad7dd12.gradio.live\n",
      "\n",
      "This share link expires in 1 week. For free permanent hosting and GPU upgrades, run `gradio deploy` from the terminal in the working directory to deploy to Hugging Face Spaces (https://huggingface.co/spaces)\n"
     ]
    },
    {
     "data": {
      "text/html": [
       "<div><iframe src=\"https://61ca763c914ad7dd12.gradio.live\" width=\"100%\" height=\"500\" allow=\"autoplay; camera; microphone; clipboard-read; clipboard-write;\" frameborder=\"0\" allowfullscreen></iframe></div>"
      ],
      "text/plain": [
       "<IPython.core.display.HTML object>"
      ]
     },
     "metadata": {},
     "output_type": "display_data"
    },
    {
     "data": {
      "text/plain": []
     },
     "execution_count": 14,
     "metadata": {},
     "output_type": "execute_result"
    }
   ],
   "source": [
    "interface.launch(share=True)"
   ]
  },
  {
   "cell_type": "code",
   "execution_count": 15,
   "metadata": {
    "colab": {
     "base_uri": "https://localhost:8080/"
    },
    "id": "hDxe86F8FfPD",
    "outputId": "07d10945-cd40-4a76-a955-9def725c214e"
   },
   "outputs": [
    {
     "name": "stdout",
     "output_type": "stream",
     "text": [
      "Closing server running on port: 7860\n"
     ]
    }
   ],
   "source": [
    "gr.close_all()"
   ]
  },
  {
   "cell_type": "code",
   "execution_count": null,
   "metadata": {
    "id": "xWyWthgLIHZ6"
   },
   "outputs": [],
   "source": []
  }
 ],
 "metadata": {
  "accelerator": "GPU",
  "colab": {
   "gpuType": "T4",
   "provenance": []
  },
  "kernelspec": {
   "display_name": "Python 3 (ipykernel)",
   "language": "python",
   "name": "python3"
  },
  "language_info": {
   "codemirror_mode": {
    "name": "ipython",
    "version": 3
   },
   "file_extension": ".py",
   "mimetype": "text/x-python",
   "name": "python",
   "nbconvert_exporter": "python",
   "pygments_lexer": "ipython3",
   "version": "3.11.13"
  }
 },
 "nbformat": 4,
 "nbformat_minor": 4
}